{
 "cells": [
  {
   "cell_type": "markdown",
   "metadata": {},
   "source": [
    "# Biggest Rectangle inside a Circle"
   ]
  },
  {
   "cell_type": "markdown",
   "metadata": {},
   "source": [
    "Finding the maximum area of a rectangle that can exist within a circle "
   ]
  },
  {
   "cell_type": "markdown",
   "metadata": {},
   "source": [
    "# Setup"
   ]
  },
  {
   "cell_type": "code",
   "execution_count": 1,
   "metadata": {
    "ExecuteTime": {
     "end_time": "2022-05-12T16:54:00.170372Z",
     "start_time": "2022-05-12T16:53:59.808026Z"
    }
   },
   "outputs": [],
   "source": [
    "import pyomo.environ as pyo"
   ]
  },
  {
   "cell_type": "markdown",
   "metadata": {},
   "source": [
    "# Define the problem"
   ]
  },
  {
   "cell_type": "markdown",
   "metadata": {},
   "source": [
    "<img src=\"../reports/imgs/rect-circle.png\" alt=\"drawing\" width=\"800\"/>"
   ]
  },
  {
   "cell_type": "markdown",
   "metadata": {},
   "source": [
    "## Model\n",
    "\n",
    "<font color=gray size=2.5><b>lets define a concrete model</b></font>"
   ]
  },
  {
   "cell_type": "code",
   "execution_count": 2,
   "metadata": {
    "ExecuteTime": {
     "end_time": "2022-05-12T16:54:00.177985Z",
     "start_time": "2022-05-12T16:54:00.173078Z"
    }
   },
   "outputs": [],
   "source": [
    "model = pyo.ConcreteModel()"
   ]
  },
  {
   "cell_type": "markdown",
   "metadata": {},
   "source": [
    "## Parameters\n",
    "\n",
    "<font color=gray size=2.5><b>these are the known/given values in the problem statement</b></font>"
   ]
  },
  {
   "cell_type": "markdown",
   "metadata": {},
   "source": [
    "the `R` (radius) of the circle is a parameter, assume that its given to be 10"
   ]
  },
  {
   "cell_type": "code",
   "execution_count": 3,
   "metadata": {
    "ExecuteTime": {
     "end_time": "2022-05-12T16:54:00.189276Z",
     "start_time": "2022-05-12T16:54:00.183033Z"
    }
   },
   "outputs": [],
   "source": [
    "model.R = pyo.Param(initialize=10)"
   ]
  },
  {
   "cell_type": "markdown",
   "metadata": {},
   "source": [
    "## Variables\n",
    "\n",
    "<font color=gray size=2.5><b>the unknowns - these are what the model needs to determine</b></font>"
   ]
  },
  {
   "cell_type": "markdown",
   "metadata": {},
   "source": [
    "`x` and `y` are the variables that we need to find out.  \n",
    "\n",
    "If the centre of the circle has the coordinates `(0, 0)`, then:\n",
    "- the length of the rectangle will be `2x`\n",
    "- the height of the rectangle will be `2y`\n",
    "- and therefore, the area of the rectangle will be `4xy`\n",
    "\n",
    "also, the values of `x` and `y` cant exceed the radius `R` of the circle"
   ]
  },
  {
   "cell_type": "code",
   "execution_count": 4,
   "metadata": {
    "ExecuteTime": {
     "end_time": "2022-05-12T16:54:00.198476Z",
     "start_time": "2022-05-12T16:54:00.192891Z"
    }
   },
   "outputs": [],
   "source": [
    "model.x = pyo.Var(bounds=(0, model.R), initialize=model.R)\n",
    "model.y = pyo.Var(bounds=(0, model.R), initialize=model.R)"
   ]
  },
  {
   "cell_type": "markdown",
   "metadata": {},
   "source": [
    "## Constraints\n",
    "\n",
    "<font color=gray size=2.5><b>lets define the constraints</b></font>"
   ]
  },
  {
   "cell_type": "markdown",
   "metadata": {},
   "source": [
    "in this problem statement, we have the following constraints:\n",
    " > $x^2 + y^2 = R^2$"
   ]
  },
  {
   "cell_type": "code",
   "execution_count": 5,
   "metadata": {
    "ExecuteTime": {
     "end_time": "2022-05-12T16:54:00.206970Z",
     "start_time": "2022-05-12T16:54:00.200810Z"
    }
   },
   "outputs": [],
   "source": [
    "model.c1 = pyo.Constraint(expr=model.x**2+model.y**2 == model.R**2)"
   ]
  },
  {
   "cell_type": "markdown",
   "metadata": {},
   "source": [
    "## Objective Function\n",
    "\n",
    "<font color=gray size=2.5><b>the objective function - we need to maximixe this function as per the current question</b></font>"
   ]
  },
  {
   "cell_type": "markdown",
   "metadata": {},
   "source": [
    "the objective is to find the biggest possible area of a rectangle\n",
    "> (max) $ 4*x*y $"
   ]
  },
  {
   "cell_type": "code",
   "execution_count": 6,
   "metadata": {
    "ExecuteTime": {
     "end_time": "2022-05-12T16:54:00.215699Z",
     "start_time": "2022-05-12T16:54:00.209609Z"
    }
   },
   "outputs": [],
   "source": [
    "model.f1 = pyo.Objective(expr=4*model.x*model.y, sense=pyo.maximize)"
   ]
  },
  {
   "cell_type": "markdown",
   "metadata": {},
   "source": [
    "# Solve"
   ]
  },
  {
   "cell_type": "code",
   "execution_count": 7,
   "metadata": {
    "ExecuteTime": {
     "end_time": "2022-05-12T16:54:00.412367Z",
     "start_time": "2022-05-12T16:54:00.219339Z"
    }
   },
   "outputs": [],
   "source": [
    "optimizer = pyo.SolverFactory('ipopt')\n",
    "results = optimizer.solve(model)"
   ]
  },
  {
   "cell_type": "code",
   "execution_count": 8,
   "metadata": {
    "ExecuteTime": {
     "end_time": "2022-05-12T16:54:00.423161Z",
     "start_time": "2022-05-12T16:54:00.416088Z"
    }
   },
   "outputs": [
    {
     "name": "stdout",
     "output_type": "stream",
     "text": [
      "x = 7.071\n",
      "y = 7.071\n",
      "Area = 200.0\n"
     ]
    }
   ],
   "source": [
    "print('x =', round(pyo.value(model.x), 3))\n",
    "print('y =', round(pyo.value(model.y), 3))\n",
    "print('Area =', round(pyo.value(model.f1), 3))"
   ]
  },
  {
   "cell_type": "code",
   "execution_count": 9,
   "metadata": {
    "ExecuteTime": {
     "end_time": "2022-05-12T16:54:00.448678Z",
     "start_time": "2022-05-12T16:54:00.431181Z"
    }
   },
   "outputs": [
    {
     "name": "stdout",
     "output_type": "stream",
     "text": [
      "\n",
      "Problem: \n",
      "- Lower bound: -inf\n",
      "  Upper bound: inf\n",
      "  Number of objectives: 1\n",
      "  Number of constraints: 1\n",
      "  Number of variables: 2\n",
      "  Sense: unknown\n",
      "Solver: \n",
      "- Status: ok\n",
      "  Message: Ipopt 3.14.6\\x3a Optimal Solution Found\n",
      "  Termination condition: optimal\n",
      "  Id: 0\n",
      "  Error rc: 0\n",
      "  Time: 0.03410983085632324\n",
      "Solution: \n",
      "- number of solutions: 0\n",
      "  number of solutions displayed: 0\n",
      "\n"
     ]
    }
   ],
   "source": [
    "print(results)"
   ]
  },
  {
   "cell_type": "markdown",
   "metadata": {},
   "source": [
    "# Experimentations with the results"
   ]
  },
  {
   "cell_type": "markdown",
   "metadata": {},
   "source": [
    "###### fixing one of the variables"
   ]
  },
  {
   "cell_type": "code",
   "execution_count": 10,
   "metadata": {
    "ExecuteTime": {
     "end_time": "2022-05-12T16:54:00.598920Z",
     "start_time": "2022-05-12T16:54:00.453193Z"
    }
   },
   "outputs": [],
   "source": [
    "model.x.fix(1)\n",
    "results = optimizer.solve(model)"
   ]
  },
  {
   "cell_type": "code",
   "execution_count": 11,
   "metadata": {
    "ExecuteTime": {
     "end_time": "2022-05-12T16:54:00.609136Z",
     "start_time": "2022-05-12T16:54:00.601575Z"
    }
   },
   "outputs": [
    {
     "name": "stdout",
     "output_type": "stream",
     "text": [
      "x =  1\n",
      "y =  9.95\n",
      "Area =  39.799\n"
     ]
    }
   ],
   "source": [
    "print('x = ', round(pyo.value(model.x), 3))\n",
    "print('y = ', round(pyo.value(model.y), 3))\n",
    "print('Area = ', round(pyo.value(model.f1), 3))"
   ]
  },
  {
   "cell_type": "markdown",
   "metadata": {},
   "source": [
    "###### unfixing variables"
   ]
  },
  {
   "cell_type": "code",
   "execution_count": 12,
   "metadata": {
    "ExecuteTime": {
     "end_time": "2022-05-12T16:54:00.659283Z",
     "start_time": "2022-05-12T16:54:00.613066Z"
    }
   },
   "outputs": [],
   "source": [
    "model.x.unfix()\n",
    "model.y.fix(1)\n",
    "results = optimizer.solve(model)"
   ]
  },
  {
   "cell_type": "code",
   "execution_count": 13,
   "metadata": {
    "ExecuteTime": {
     "end_time": "2022-05-12T16:54:00.674321Z",
     "start_time": "2022-05-12T16:54:00.665569Z"
    }
   },
   "outputs": [
    {
     "name": "stdout",
     "output_type": "stream",
     "text": [
      "x =  9.95\n",
      "y =  1\n",
      "Area =  39.799\n"
     ]
    }
   ],
   "source": [
    "print('x = ', round(pyo.value(model.x), 3))\n",
    "print('y = ', round(pyo.value(model.y), 3))\n",
    "print('Area = ', round(pyo.value(model.f1), 3))"
   ]
  },
  {
   "cell_type": "code",
   "execution_count": 14,
   "metadata": {
    "ExecuteTime": {
     "end_time": "2022-05-12T16:54:00.756947Z",
     "start_time": "2022-05-12T16:54:00.679907Z"
    }
   },
   "outputs": [],
   "source": [
    "model.x.unfix()\n",
    "model.y.unfix()\n",
    "results = optimizer.solve(model)"
   ]
  },
  {
   "cell_type": "code",
   "execution_count": null,
   "metadata": {},
   "outputs": [],
   "source": []
  }
 ],
 "metadata": {
  "kernelspec": {
   "display_name": "Python [conda env:operations-research-notebooks]",
   "language": "python",
   "name": "conda-env-operations-research-notebooks-py"
  },
  "language_info": {
   "codemirror_mode": {
    "name": "ipython",
    "version": 3
   },
   "file_extension": ".py",
   "mimetype": "text/x-python",
   "name": "python",
   "nbconvert_exporter": "python",
   "pygments_lexer": "ipython3",
   "version": "3.10.4"
  },
  "toc": {
   "base_numbering": 1,
   "nav_menu": {},
   "number_sections": true,
   "sideBar": true,
   "skip_h1_title": false,
   "title_cell": "Table of Contents",
   "title_sidebar": "Contents",
   "toc_cell": false,
   "toc_position": {},
   "toc_section_display": true,
   "toc_window_display": false
  }
 },
 "nbformat": 4,
 "nbformat_minor": 4
}
