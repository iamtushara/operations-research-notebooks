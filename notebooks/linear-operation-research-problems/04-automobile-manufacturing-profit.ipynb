{
 "cells": [
  {
   "cell_type": "markdown",
   "metadata": {},
   "source": [
    "# Problem Statement"
   ]
  },
  {
   "cell_type": "markdown",
   "metadata": {},
   "source": [
    "An automobile manufacturer makes automobiles and trucks in a factory that is divided into two shops.  \n",
    "\n",
    "Shop 1, which performs the basic assembly operation, must work `5 man-days on each truck` but only `2 man-days on each automobile`.  \n",
    "\n",
    "Shop 2, which performs finishing operations, must work `3 man-days on each automobile or truck` that it produces.  \n",
    "\n",
    "Because of men and machine limitations `Shop 1 has 180 man-days per week` available while `Shop 2 has 135 man-days per week`.   \n",
    "\n",
    "If the manufacturer makes a profit of `$300 on each truck` and `$200 on each automobile`, how many of each should he produce to maximize his profit?\n",
    "                                                \n",
    "https://stemez.com/subjects/science/1HOperationsReseach/1HOperationsReseach/1HOperationsResearch/1H01-0004.htm"
   ]
  },
  {
   "cell_type": "markdown",
   "metadata": {},
   "source": [
    "# Setup"
   ]
  },
  {
   "cell_type": "code",
   "execution_count": 1,
   "metadata": {
    "ExecuteTime": {
     "end_time": "2022-05-12T20:11:33.874980Z",
     "start_time": "2022-05-12T20:11:33.852902Z"
    }
   },
   "outputs": [],
   "source": [
    "%config Completer.use_jedi=False"
   ]
  },
  {
   "cell_type": "code",
   "execution_count": 2,
   "metadata": {
    "ExecuteTime": {
     "end_time": "2022-05-12T20:11:34.342751Z",
     "start_time": "2022-05-12T20:11:33.881112Z"
    }
   },
   "outputs": [],
   "source": [
    "import pyomo.environ as pyo"
   ]
  },
  {
   "cell_type": "markdown",
   "metadata": {},
   "source": [
    "# Define the problem"
   ]
  },
  {
   "cell_type": "markdown",
   "metadata": {},
   "source": [
    "## Model\n",
    "\n",
    "<font color=gray size=2.5><b>lets define a concrete model</b></font>"
   ]
  },
  {
   "cell_type": "code",
   "execution_count": 3,
   "metadata": {
    "ExecuteTime": {
     "end_time": "2022-05-12T20:11:34.355649Z",
     "start_time": "2022-05-12T20:11:34.348230Z"
    }
   },
   "outputs": [],
   "source": [
    "model = pyo.ConcreteModel()"
   ]
  },
  {
   "cell_type": "markdown",
   "metadata": {},
   "source": [
    "## Parameters\n",
    "\n",
    "<font color=gray size=2.5><b>these are the known/given values in the problem statement</b></font>"
   ]
  },
  {
   "cell_type": "code",
   "execution_count": null,
   "metadata": {},
   "outputs": [],
   "source": []
  },
  {
   "cell_type": "markdown",
   "metadata": {},
   "source": [
    "## Variables\n",
    "\n",
    "<font color=gray size=2.5><b>the unknowns - these are what the model needs to determine</b></font>"
   ]
  },
  {
   "cell_type": "markdown",
   "metadata": {},
   "source": [
    "lets assume that:\n",
    "- `x` is the number of Trucks manufactured, where $x>=0$  \n",
    "- `y` is the number of automobiles manufactured, where $y>=0$  "
   ]
  },
  {
   "cell_type": "code",
   "execution_count": 4,
   "metadata": {
    "ExecuteTime": {
     "end_time": "2022-05-12T20:11:34.378278Z",
     "start_time": "2022-05-12T20:11:34.361963Z"
    }
   },
   "outputs": [],
   "source": [
    "model.x = pyo.Var(bounds=(0, None))\n",
    "model.y = pyo.Var(bounds=(0, None))"
   ]
  },
  {
   "cell_type": "markdown",
   "metadata": {},
   "source": [
    "## Constraints\n",
    "\n",
    "<font color=gray size=2.5><b>lets define the constraints</b></font>"
   ]
  },
  {
   "cell_type": "markdown",
   "metadata": {},
   "source": [
    "Shop 1:\n",
    "> $ 5x + 2y <= 180 $  \n",
    "\n",
    "Shop 2:\n",
    "> $ 3x + 3y <= 135 $  "
   ]
  },
  {
   "cell_type": "code",
   "execution_count": 5,
   "metadata": {
    "ExecuteTime": {
     "end_time": "2022-05-12T20:11:34.391330Z",
     "start_time": "2022-05-12T20:11:34.382490Z"
    }
   },
   "outputs": [],
   "source": [
    "model.c1 = pyo.Constraint(expr= 5*model.x + 2*model.y <= 180)"
   ]
  },
  {
   "cell_type": "code",
   "execution_count": 6,
   "metadata": {
    "ExecuteTime": {
     "end_time": "2022-05-12T20:11:34.408104Z",
     "start_time": "2022-05-12T20:11:34.395807Z"
    }
   },
   "outputs": [],
   "source": [
    "model.c2 = pyo.Constraint(expr= 3*model.x + 3*model.y <= 135)"
   ]
  },
  {
   "cell_type": "markdown",
   "metadata": {},
   "source": [
    "## Objective Function\n",
    "\n",
    "<font color=gray size=2.5><b>the objective function - we need to maximixe this function as per the current question</b></font>"
   ]
  },
  {
   "cell_type": "markdown",
   "metadata": {},
   "source": [
    "we need to maximize the profits where profits are given by:  \n",
    "> (max) $ 300x + 200y $"
   ]
  },
  {
   "cell_type": "code",
   "execution_count": 7,
   "metadata": {
    "ExecuteTime": {
     "end_time": "2022-05-12T20:11:34.425741Z",
     "start_time": "2022-05-12T20:11:34.416121Z"
    }
   },
   "outputs": [],
   "source": [
    "model.OF = pyo.Objective(expr= 300*model.x + 200*model.y, sense=pyo.maximize)"
   ]
  },
  {
   "cell_type": "markdown",
   "metadata": {},
   "source": [
    "# Solve"
   ]
  },
  {
   "cell_type": "code",
   "execution_count": 8,
   "metadata": {
    "ExecuteTime": {
     "end_time": "2022-05-12T20:11:34.677712Z",
     "start_time": "2022-05-12T20:11:34.429627Z"
    }
   },
   "outputs": [],
   "source": [
    "optimizer = pyo.SolverFactory('ipopt')\n",
    "results = optimizer.solve(model)"
   ]
  },
  {
   "cell_type": "markdown",
   "metadata": {},
   "source": [
    "# Print Optimum Results"
   ]
  },
  {
   "cell_type": "code",
   "execution_count": 9,
   "metadata": {
    "ExecuteTime": {
     "end_time": "2022-05-12T20:11:34.690980Z",
     "start_time": "2022-05-12T20:11:34.681512Z"
    }
   },
   "outputs": [
    {
     "name": "stdout",
     "output_type": "stream",
     "text": [
      "n_Trucks = 30.0\n",
      "n_Automobiles = 15.0\n",
      "Maximum Profit = 12000.0\n"
     ]
    }
   ],
   "source": [
    "print('n_Trucks =', round(pyo.value(model.x), 3))\n",
    "print('n_Automobiles =', round(pyo.value(model.y), 3))\n",
    "print('Maximum Profit =', round(pyo.value(model.OF), 3))"
   ]
  },
  {
   "cell_type": "code",
   "execution_count": 10,
   "metadata": {
    "ExecuteTime": {
     "end_time": "2022-05-12T20:11:34.717447Z",
     "start_time": "2022-05-12T20:11:34.695488Z"
    }
   },
   "outputs": [
    {
     "name": "stdout",
     "output_type": "stream",
     "text": [
      "\n",
      "Problem: \n",
      "- Lower bound: -inf\n",
      "  Upper bound: inf\n",
      "  Number of objectives: 1\n",
      "  Number of constraints: 2\n",
      "  Number of variables: 2\n",
      "  Sense: unknown\n",
      "Solver: \n",
      "- Status: ok\n",
      "  Message: Ipopt 3.14.6\\x3a Optimal Solution Found\n",
      "  Termination condition: optimal\n",
      "  Id: 0\n",
      "  Error rc: 0\n",
      "  Time: 0.05424785614013672\n",
      "Solution: \n",
      "- number of solutions: 0\n",
      "  number of solutions displayed: 0\n",
      "\n"
     ]
    }
   ],
   "source": [
    "print(results)"
   ]
  },
  {
   "cell_type": "code",
   "execution_count": null,
   "metadata": {},
   "outputs": [],
   "source": []
  },
  {
   "cell_type": "markdown",
   "metadata": {},
   "source": [
    "---"
   ]
  }
 ],
 "metadata": {
  "kernelspec": {
   "display_name": "Python [conda env:operations-research-notebooks]",
   "language": "python",
   "name": "conda-env-operations-research-notebooks-py"
  },
  "language_info": {
   "codemirror_mode": {
    "name": "ipython",
    "version": 3
   },
   "file_extension": ".py",
   "mimetype": "text/x-python",
   "name": "python",
   "nbconvert_exporter": "python",
   "pygments_lexer": "ipython3",
   "version": "3.10.4"
  },
  "toc": {
   "base_numbering": 1,
   "nav_menu": {},
   "number_sections": true,
   "sideBar": true,
   "skip_h1_title": false,
   "title_cell": "Table of Contents",
   "title_sidebar": "Contents",
   "toc_cell": false,
   "toc_position": {},
   "toc_section_display": true,
   "toc_window_display": false
  }
 },
 "nbformat": 4,
 "nbformat_minor": 4
}
