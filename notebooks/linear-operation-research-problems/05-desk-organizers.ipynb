{
 "cells": [
  {
   "cell_type": "markdown",
   "metadata": {},
   "source": [
    "# Problem Statement"
   ]
  },
  {
   "cell_type": "markdown",
   "metadata": {},
   "source": [
    "A company makes desk organizers.  \n",
    "\n",
    "The Standard model requires `2 hours of the cutter's time` and `one hour of the finisher's time`.<br>\n",
    "The Deluxe model requires `1 hour of the cutter's time` and `2 hours of the finisher's time`.  \n",
    "\n",
    "The `cutter has 104 hours` of time available for this work per month, while the `finisher has 76 hours` of time available for work. \n",
    "\n",
    "The `standard model brings a profit of $6 per unit`, while the `deluxe one brings a profit of $11 per unit`.<br>\n",
    "\n",
    "The company, of course, wishes to make the most profit. Assuming they can sell whatever is made, how much of each model should be made in each month?"
   ]
  },
  {
   "cell_type": "markdown",
   "metadata": {},
   "source": [
    "# Setup"
   ]
  },
  {
   "cell_type": "code",
   "execution_count": 1,
   "metadata": {
    "ExecuteTime": {
     "end_time": "2022-05-12T20:24:50.290228Z",
     "start_time": "2022-05-12T20:24:50.271601Z"
    }
   },
   "outputs": [],
   "source": [
    "%config Completer.use_jedi=False"
   ]
  },
  {
   "cell_type": "code",
   "execution_count": 2,
   "metadata": {
    "ExecuteTime": {
     "end_time": "2022-05-12T20:24:50.751593Z",
     "start_time": "2022-05-12T20:24:50.294862Z"
    }
   },
   "outputs": [],
   "source": [
    "import pyomo.environ as pyo"
   ]
  },
  {
   "cell_type": "markdown",
   "metadata": {},
   "source": [
    "# Define the problem"
   ]
  },
  {
   "cell_type": "markdown",
   "metadata": {},
   "source": [
    "## Model\n",
    "\n",
    "<font color=gray size=2.5><b>lets define a concrete model</b></font>"
   ]
  },
  {
   "cell_type": "code",
   "execution_count": 3,
   "metadata": {
    "ExecuteTime": {
     "end_time": "2022-05-12T20:24:50.764125Z",
     "start_time": "2022-05-12T20:24:50.758765Z"
    }
   },
   "outputs": [],
   "source": [
    "model = pyo.ConcreteModel()"
   ]
  },
  {
   "cell_type": "markdown",
   "metadata": {},
   "source": [
    "## Parameters\n",
    "\n",
    "<font color=gray size=2.5><b>these are the known/given values in the problem statement</b></font>"
   ]
  },
  {
   "cell_type": "code",
   "execution_count": null,
   "metadata": {},
   "outputs": [],
   "source": []
  },
  {
   "cell_type": "markdown",
   "metadata": {},
   "source": [
    "## Variables\n",
    "\n",
    "<font color=gray size=2.5><b>the unknowns - these are what the model needs to determine</b></font>"
   ]
  },
  {
   "cell_type": "markdown",
   "metadata": {},
   "source": [
    "lets assume that the company manufactures:\n",
    "- `x` standard desks, where, $ x>=0 $  \n",
    "- `y` deluxe desks, where, $ y>=0 $  "
   ]
  },
  {
   "cell_type": "code",
   "execution_count": 4,
   "metadata": {
    "ExecuteTime": {
     "end_time": "2022-05-12T20:24:50.784879Z",
     "start_time": "2022-05-12T20:24:50.768958Z"
    }
   },
   "outputs": [],
   "source": [
    "model.x = pyo.Var(bounds=(0, None))\n",
    "model.y = pyo.Var(bounds=(0, None))"
   ]
  },
  {
   "cell_type": "markdown",
   "metadata": {},
   "source": [
    "## Constraints\n",
    "\n",
    "<font color=gray size=2.5><b>lets define the constraints</b></font>"
   ]
  },
  {
   "cell_type": "markdown",
   "metadata": {},
   "source": [
    "Cutter time constraints:<br>\n",
    "> $ 2x + y <= 104 $<br>\n",
    "\n",
    "Finisher Time Constraints:<br>\n",
    "> $ x + 2y <= 76 $"
   ]
  },
  {
   "cell_type": "code",
   "execution_count": 5,
   "metadata": {
    "ExecuteTime": {
     "end_time": "2022-05-12T20:24:50.795211Z",
     "start_time": "2022-05-12T20:24:50.788737Z"
    }
   },
   "outputs": [],
   "source": [
    "model.c1 = pyo.Constraint(expr= 2*model.x + model.y <= 104)"
   ]
  },
  {
   "cell_type": "code",
   "execution_count": 6,
   "metadata": {
    "ExecuteTime": {
     "end_time": "2022-05-12T20:24:50.809028Z",
     "start_time": "2022-05-12T20:24:50.801287Z"
    }
   },
   "outputs": [],
   "source": [
    "model.c2 = pyo.Constraint(expr= model.x + 2*model.y <= 76)"
   ]
  },
  {
   "cell_type": "markdown",
   "metadata": {},
   "source": [
    "## Objective Function\n",
    "\n",
    "<font color=gray size=2.5><b>the objective function - we need to maximixe this function as per the current question</b></font>"
   ]
  },
  {
   "cell_type": "markdown",
   "metadata": {},
   "source": [
    "we need to maximize the profit, where, max profit is given by:  \n",
    "> (max) $ 6x + 11y $  "
   ]
  },
  {
   "cell_type": "code",
   "execution_count": 7,
   "metadata": {
    "ExecuteTime": {
     "end_time": "2022-05-12T20:24:50.823222Z",
     "start_time": "2022-05-12T20:24:50.813265Z"
    }
   },
   "outputs": [],
   "source": [
    "model.OF = pyo.Objective(expr= 6*model.x + 11*model.y, sense=pyo.maximize)"
   ]
  },
  {
   "cell_type": "markdown",
   "metadata": {},
   "source": [
    "# Solve"
   ]
  },
  {
   "cell_type": "code",
   "execution_count": 8,
   "metadata": {
    "ExecuteTime": {
     "end_time": "2022-05-12T20:24:51.109933Z",
     "start_time": "2022-05-12T20:24:50.828343Z"
    }
   },
   "outputs": [],
   "source": [
    "optimizer = pyo.SolverFactory('ipopt')\n",
    "results = optimizer.solve(model)"
   ]
  },
  {
   "cell_type": "markdown",
   "metadata": {},
   "source": [
    "# Print Optimum Results"
   ]
  },
  {
   "cell_type": "code",
   "execution_count": 9,
   "metadata": {
    "ExecuteTime": {
     "end_time": "2022-05-12T20:24:51.125585Z",
     "start_time": "2022-05-12T20:24:51.117801Z"
    }
   },
   "outputs": [
    {
     "name": "stdout",
     "output_type": "stream",
     "text": [
      "Standard Desks (x) = 44.0\n",
      "Deluxe Desks (y) = 16.0\n",
      "Maximum Profti = 440.0\n"
     ]
    }
   ],
   "source": [
    "print('Standard Desks (x) =', round(pyo.value(model.x), 3))\n",
    "print('Deluxe Desks (y) =', round(pyo.value(model.y), 3))\n",
    "print('Maximum Profti =', round(pyo.value(model.OF), 3))"
   ]
  },
  {
   "cell_type": "code",
   "execution_count": 10,
   "metadata": {
    "ExecuteTime": {
     "end_time": "2022-05-12T20:24:51.153917Z",
     "start_time": "2022-05-12T20:24:51.130405Z"
    }
   },
   "outputs": [
    {
     "name": "stdout",
     "output_type": "stream",
     "text": [
      "\n",
      "Problem: \n",
      "- Lower bound: -inf\n",
      "  Upper bound: inf\n",
      "  Number of objectives: 1\n",
      "  Number of constraints: 2\n",
      "  Number of variables: 2\n",
      "  Sense: unknown\n",
      "Solver: \n",
      "- Status: ok\n",
      "  Message: Ipopt 3.14.6\\x3a Optimal Solution Found\n",
      "  Termination condition: optimal\n",
      "  Id: 0\n",
      "  Error rc: 0\n",
      "  Time: 0.06266307830810547\n",
      "Solution: \n",
      "- number of solutions: 0\n",
      "  number of solutions displayed: 0\n",
      "\n"
     ]
    }
   ],
   "source": [
    "print(results)"
   ]
  },
  {
   "cell_type": "code",
   "execution_count": null,
   "metadata": {},
   "outputs": [],
   "source": []
  },
  {
   "cell_type": "markdown",
   "metadata": {},
   "source": [
    "---"
   ]
  }
 ],
 "metadata": {
  "kernelspec": {
   "display_name": "Python [conda env:operations-research-notebooks]",
   "language": "python",
   "name": "conda-env-operations-research-notebooks-py"
  },
  "language_info": {
   "codemirror_mode": {
    "name": "ipython",
    "version": 3
   },
   "file_extension": ".py",
   "mimetype": "text/x-python",
   "name": "python",
   "nbconvert_exporter": "python",
   "pygments_lexer": "ipython3",
   "version": "3.10.4"
  },
  "toc": {
   "base_numbering": 1,
   "nav_menu": {},
   "number_sections": true,
   "sideBar": true,
   "skip_h1_title": false,
   "title_cell": "Table of Contents",
   "title_sidebar": "Contents",
   "toc_cell": false,
   "toc_position": {},
   "toc_section_display": true,
   "toc_window_display": false
  }
 },
 "nbformat": 4,
 "nbformat_minor": 4
}
