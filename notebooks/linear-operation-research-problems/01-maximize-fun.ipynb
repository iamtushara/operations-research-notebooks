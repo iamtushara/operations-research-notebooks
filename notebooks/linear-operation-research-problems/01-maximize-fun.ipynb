{
 "cells": [
  {
   "cell_type": "markdown",
   "metadata": {},
   "source": [
    "# Maximixe FUN"
   ]
  },
  {
   "cell_type": "markdown",
   "metadata": {},
   "source": [
    "Assume you want to decide between alternate ways of spending an `eight-hour day`, that is, you want to allocate your resource time.   \n",
    "\n",
    "Also assume that `you find it five times more fun to play ping-pong` in the lounge than to work, but you also feel that `you should work at least three times as many hours as you play ping-pong`.  \n",
    "\n",
    "Now the decision problem is how many hours to play and how many to\n",
    "work in order to maximize your objective: \"fun.\"\n",
    "\n",
    "https://stemez.com/subjects/science/1HOperationsReseach/1HOperationsReseach/1HOperationsResearch/1H01-0001.htm"
   ]
  },
  {
   "cell_type": "markdown",
   "metadata": {},
   "source": [
    "# Setup"
   ]
  },
  {
   "cell_type": "code",
   "execution_count": 1,
   "metadata": {
    "ExecuteTime": {
     "end_time": "2022-05-12T19:48:20.208057Z",
     "start_time": "2022-05-12T19:48:20.190331Z"
    }
   },
   "outputs": [],
   "source": [
    "%config Completer.use_jedi=False"
   ]
  },
  {
   "cell_type": "code",
   "execution_count": 2,
   "metadata": {
    "ExecuteTime": {
     "end_time": "2022-05-12T19:48:20.700740Z",
     "start_time": "2022-05-12T19:48:20.220149Z"
    }
   },
   "outputs": [],
   "source": [
    "import pyomo.environ as pyo"
   ]
  },
  {
   "cell_type": "markdown",
   "metadata": {},
   "source": [
    "# Define the problem"
   ]
  },
  {
   "cell_type": "raw",
   "metadata": {},
   "source": [
    "<img src=\"../reports/imgs/sample.png\" alt=\"drawing\" width=\"800\"/>"
   ]
  },
  {
   "cell_type": "markdown",
   "metadata": {},
   "source": [
    "## Model\n",
    "\n",
    "<font color=gray size=2.5><b>lets define a concrete model</b></font>"
   ]
  },
  {
   "cell_type": "code",
   "execution_count": 3,
   "metadata": {
    "ExecuteTime": {
     "end_time": "2022-05-12T19:48:20.713110Z",
     "start_time": "2022-05-12T19:48:20.705643Z"
    }
   },
   "outputs": [],
   "source": [
    "model = pyo.ConcreteModel()"
   ]
  },
  {
   "cell_type": "markdown",
   "metadata": {},
   "source": [
    "## Parameters\n",
    "\n",
    "<font color=gray size=2.5><b>these are the known/given values in the problem statement</b></font>"
   ]
  },
  {
   "cell_type": "code",
   "execution_count": null,
   "metadata": {},
   "outputs": [],
   "source": []
  },
  {
   "cell_type": "markdown",
   "metadata": {},
   "source": [
    "## Variables\n",
    "\n",
    "<font color=gray size=2.5><b>the unknowns - these are what the model needs to determine</b></font>"
   ]
  },
  {
   "cell_type": "markdown",
   "metadata": {},
   "source": [
    "let us assume that\n",
    "- `x` is the number of hours one works and  \n",
    "- `y` is the number of hours one plays ping-pong\n",
    "\n",
    "also, the bounds for x and y are:\n",
    "> $ x>=0 $  \n",
    "> $ y>=0 $"
   ]
  },
  {
   "cell_type": "code",
   "execution_count": 4,
   "metadata": {
    "ExecuteTime": {
     "end_time": "2022-05-12T19:48:20.734998Z",
     "start_time": "2022-05-12T19:48:20.719963Z"
    }
   },
   "outputs": [],
   "source": [
    "model.x = pyo.Var(bounds=(0, None))\n",
    "model.y = pyo.Var(bounds=(0, None))"
   ]
  },
  {
   "cell_type": "markdown",
   "metadata": {},
   "source": [
    "## Constraints\n",
    "\n",
    "<font color=gray size=2.5><b>lets define the constraints</b></font>"
   ]
  },
  {
   "cell_type": "markdown",
   "metadata": {},
   "source": [
    "total number of hours in a day are 8\n",
    "> $ x + y <= 8 $   \n",
    "\n",
    "work hours must work 3 times more that one plays  \n",
    "> $ x >= 3y $   "
   ]
  },
  {
   "cell_type": "code",
   "execution_count": 5,
   "metadata": {
    "ExecuteTime": {
     "end_time": "2022-05-12T19:48:20.747368Z",
     "start_time": "2022-05-12T19:48:20.739015Z"
    }
   },
   "outputs": [],
   "source": [
    "model.c1 = pyo.Constraint(expr=model.x+model.y <= 8)"
   ]
  },
  {
   "cell_type": "code",
   "execution_count": 6,
   "metadata": {
    "ExecuteTime": {
     "end_time": "2022-05-12T19:48:20.761563Z",
     "start_time": "2022-05-12T19:48:20.752032Z"
    }
   },
   "outputs": [],
   "source": [
    "model.c2 = pyo.Constraint(expr=model.x-3*model.y >= 0)"
   ]
  },
  {
   "cell_type": "markdown",
   "metadata": {},
   "source": [
    "## Objective Function\n",
    "\n",
    "<font color=gray size=2.5><b>the objective function - we need to maximixe this function as per the current question</b></font>"
   ]
  },
  {
   "cell_type": "markdown",
   "metadata": {},
   "source": [
    "we need to maximize the FUN which is given by:  \n",
    "> (max) $ x + 5y $"
   ]
  },
  {
   "cell_type": "code",
   "execution_count": 7,
   "metadata": {
    "ExecuteTime": {
     "end_time": "2022-05-12T19:48:20.784288Z",
     "start_time": "2022-05-12T19:48:20.768344Z"
    }
   },
   "outputs": [],
   "source": [
    "model.OF = pyo.Objective(expr=model.x+5*model.y, sense=pyo.maximize)"
   ]
  },
  {
   "cell_type": "markdown",
   "metadata": {},
   "source": [
    "# Solve"
   ]
  },
  {
   "cell_type": "code",
   "execution_count": 8,
   "metadata": {
    "ExecuteTime": {
     "end_time": "2022-05-12T19:48:21.047521Z",
     "start_time": "2022-05-12T19:48:20.788180Z"
    }
   },
   "outputs": [],
   "source": [
    "optimizer = pyo.SolverFactory('ipopt')\n",
    "results = optimizer.solve(model)"
   ]
  },
  {
   "cell_type": "markdown",
   "metadata": {},
   "source": [
    "# Print Optimum Results"
   ]
  },
  {
   "cell_type": "code",
   "execution_count": 9,
   "metadata": {
    "ExecuteTime": {
     "end_time": "2022-05-12T19:48:21.063130Z",
     "start_time": "2022-05-12T19:48:21.052058Z"
    }
   },
   "outputs": [
    {
     "name": "stdout",
     "output_type": "stream",
     "text": [
      "x = 6.0\n",
      "y = 2.0\n",
      "Max FUN = 16.0\n"
     ]
    }
   ],
   "source": [
    "print('x =', round(pyo.value(model.x), 3))\n",
    "print('y =', round(pyo.value(model.y), 3))\n",
    "print('Max FUN =', round(pyo.value(model.OF), 3))"
   ]
  },
  {
   "cell_type": "code",
   "execution_count": 10,
   "metadata": {
    "ExecuteTime": {
     "end_time": "2022-05-12T19:48:21.080042Z",
     "start_time": "2022-05-12T19:48:21.068756Z"
    }
   },
   "outputs": [
    {
     "name": "stdout",
     "output_type": "stream",
     "text": [
      "\n",
      "Problem: \n",
      "- Lower bound: -inf\n",
      "  Upper bound: inf\n",
      "  Number of objectives: 1\n",
      "  Number of constraints: 2\n",
      "  Number of variables: 2\n",
      "  Sense: unknown\n",
      "Solver: \n",
      "- Status: ok\n",
      "  Message: Ipopt 3.14.6\\x3a Optimal Solution Found\n",
      "  Termination condition: optimal\n",
      "  Id: 0\n",
      "  Error rc: 0\n",
      "  Time: 0.054137468338012695\n",
      "Solution: \n",
      "- number of solutions: 0\n",
      "  number of solutions displayed: 0\n",
      "\n"
     ]
    }
   ],
   "source": [
    "print(results)"
   ]
  },
  {
   "cell_type": "code",
   "execution_count": null,
   "metadata": {},
   "outputs": [],
   "source": []
  },
  {
   "cell_type": "markdown",
   "metadata": {},
   "source": [
    "---"
   ]
  }
 ],
 "metadata": {
  "kernelspec": {
   "display_name": "Python [conda env:operations-research-notebooks]",
   "language": "python",
   "name": "conda-env-operations-research-notebooks-py"
  },
  "language_info": {
   "codemirror_mode": {
    "name": "ipython",
    "version": 3
   },
   "file_extension": ".py",
   "mimetype": "text/x-python",
   "name": "python",
   "nbconvert_exporter": "python",
   "pygments_lexer": "ipython3",
   "version": "3.10.4"
  },
  "toc": {
   "base_numbering": 1,
   "nav_menu": {},
   "number_sections": true,
   "sideBar": true,
   "skip_h1_title": false,
   "title_cell": "Table of Contents",
   "title_sidebar": "Contents",
   "toc_cell": false,
   "toc_position": {},
   "toc_section_display": true,
   "toc_window_display": false
  }
 },
 "nbformat": 4,
 "nbformat_minor": 4
}
