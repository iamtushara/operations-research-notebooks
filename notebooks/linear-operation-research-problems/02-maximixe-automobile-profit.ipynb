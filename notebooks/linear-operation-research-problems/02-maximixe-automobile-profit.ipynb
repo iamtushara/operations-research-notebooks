{
 "cells": [
  {
   "cell_type": "markdown",
   "metadata": {},
   "source": [
    "# Maximize automobile manufacturing profit"
   ]
  },
  {
   "cell_type": "markdown",
   "metadata": {},
   "source": [
    "https://stemez.com/subjects/science/1HOperationsReseach/1HOperationsReseach/1HOperationsResearch/1H01-0002.htm\n",
    "\n",
    "A small plant makes two types of automobile parts. It buys castings that are machined, bored, and polished.  \n",
    "The data shown in Table 1 are given.  \n",
    "\n",
    "Castings for Part A cost \\\\$2 each; for Part B they cost \\\\$3 each.   \n",
    "They sell for \\\\$5 and \\\\$6, respectively.   \n",
    "The three machines have running costs of \\\\$20, \\\\$14, and \\\\$17.50 per hour.   \n",
    "\n",
    "Assuming that any combination of Parts A and B can be sold, what product mix maximizes profit?"
   ]
  },
  {
   "cell_type": "markdown",
   "metadata": {},
   "source": [
    "<tbody><tr style=\"mso-yfti-irow:0;mso-yfti-firstrow:yes;height:1.0pt\">\n",
    "  <td width=\"365\" colspan=\"3\" valign=\"top\" style=\"width:3.8in;border:solid black 1.0pt;\n",
    "  mso-border-themecolor:text1;mso-border-alt:solid black .5pt;mso-border-themecolor:\n",
    "  text1;padding:0in 5.4pt 0in 5.4pt;height:1.0pt\">\n",
    "  <p class=\"MsoNormal\" align=\"center\" style=\"margin-bottom:0in;margin-bottom:.0001pt;\n",
    "  text-align:center;line-height:normal\"><span style=\"font-size:12.0pt;\n",
    "  font-family:&quot;Arial Unicode MS&quot;,&quot;sans-serif&quot;\">TABLE 1<o:p></o:p></span></p>\n",
    "  </td>\n",
    " </tr>\n",
    " <tr style=\"mso-yfti-irow:1;height:1.0pt\">\n",
    "  <td width=\"154\" valign=\"top\" style=\"width:1.6in;border-top:none;border-left:solid black 1.0pt;\n",
    "  mso-border-left-themecolor:text1;border-bottom:solid black 1.0pt;mso-border-bottom-themecolor:\n",
    "  text1;border-right:none;mso-border-top-alt:solid black .5pt;mso-border-top-themecolor:\n",
    "  text1;mso-border-top-alt:solid black .5pt;mso-border-top-themecolor:text1;\n",
    "  mso-border-left-alt:solid black .5pt;mso-border-left-themecolor:text1;\n",
    "  mso-border-bottom-alt:solid black .5pt;mso-border-bottom-themecolor:text1;\n",
    "  padding:0in 5.4pt 0in 5.4pt;height:1.0pt\">\n",
    "  <p class=\"MsoNormal\" align=\"center\" style=\"margin-bottom:0in;margin-bottom:.0001pt;\n",
    "  text-align:center;line-height:normal\"><span style=\"font-size:12.0pt;\n",
    "  font-family:&quot;Arial Unicode MS&quot;,&quot;sans-serif&quot;\"><o:p>&nbsp;</o:p></span></p>\n",
    "  </td>\n",
    "  <td width=\"106\" valign=\"top\" style=\"width:1.1in;border:none;border-bottom:solid black 1.0pt;\n",
    "  mso-border-bottom-themecolor:text1;mso-border-top-alt:solid black .5pt;\n",
    "  mso-border-top-themecolor:text1;mso-border-top-alt:solid black .5pt;\n",
    "  mso-border-top-themecolor:text1;mso-border-bottom-alt:solid black .5pt;\n",
    "  mso-border-bottom-themecolor:text1;padding:0in 5.4pt 0in 5.4pt;height:1.0pt\">\n",
    "  <p class=\"MsoNormal\" align=\"center\" style=\"margin-bottom:0in;margin-bottom:.0001pt;\n",
    "  text-align:center;line-height:normal\"><span style=\"font-size:12.0pt;\n",
    "  font-family:&quot;Arial Unicode MS&quot;,&quot;sans-serif&quot;\">Part A<o:p></o:p></span></p>\n",
    "  </td>\n",
    "  <td width=\"106\" valign=\"top\" style=\"width:1.1in;border-top:none;border-left:none;\n",
    "  border-bottom:solid black 1.0pt;mso-border-bottom-themecolor:text1;\n",
    "  border-right:solid black 1.0pt;mso-border-right-themecolor:text1;mso-border-top-alt:\n",
    "  solid black .5pt;mso-border-top-themecolor:text1;mso-border-top-alt:solid black .5pt;\n",
    "  mso-border-top-themecolor:text1;mso-border-bottom-alt:solid black .5pt;\n",
    "  mso-border-bottom-themecolor:text1;mso-border-right-alt:solid black .5pt;\n",
    "  mso-border-right-themecolor:text1;padding:0in 5.4pt 0in 5.4pt;height:1.0pt\">\n",
    "  <p class=\"MsoNormal\" align=\"center\" style=\"margin-bottom:0in;margin-bottom:.0001pt;\n",
    "  text-align:center;line-height:normal\"><span style=\"font-size:12.0pt;\n",
    "  font-family:&quot;Arial Unicode MS&quot;,&quot;sans-serif&quot;\">Part B<o:p></o:p></span></p>\n",
    "  </td>\n",
    " </tr>\n",
    " <tr style=\"mso-yfti-irow:2;height:1.0pt\">\n",
    "  <td width=\"154\" valign=\"top\" style=\"width:1.6in;border:none;border-left:solid black 1.0pt;\n",
    "  mso-border-left-themecolor:text1;mso-border-top-alt:solid black .5pt;\n",
    "  mso-border-top-themecolor:text1;mso-border-top-alt:solid black .5pt;\n",
    "  mso-border-top-themecolor:text1;mso-border-left-alt:solid black .5pt;\n",
    "  mso-border-left-themecolor:text1;padding:0in 5.4pt 0in 5.4pt;height:1.0pt\">\n",
    "  <p class=\"MsoNormal\" align=\"center\" style=\"margin-bottom:0in;margin-bottom:.0001pt;\n",
    "  text-align:center;line-height:normal\"><span style=\"font-size:12.0pt;\n",
    "  font-family:&quot;Arial Unicode MS&quot;,&quot;sans-serif&quot;\">Machining capacity<o:p></o:p></span></p>\n",
    "  </td>\n",
    "  <td width=\"106\" valign=\"top\" style=\"width:1.1in;border:none;mso-border-top-alt:\n",
    "  solid black .5pt;mso-border-top-themecolor:text1;padding:0in 5.4pt 0in 5.4pt;\n",
    "  height:1.0pt\">\n",
    "  <p class=\"MsoNormal\" align=\"center\" style=\"margin-bottom:0in;margin-bottom:.0001pt;\n",
    "  text-align:center;line-height:normal\"><span style=\"font-size:12.0pt;\n",
    "  font-family:&quot;Arial Unicode MS&quot;,&quot;sans-serif&quot;\">25 per hour<o:p></o:p></span></p>\n",
    "  </td>\n",
    "  <td width=\"106\" valign=\"top\" style=\"width:1.1in;border:none;border-right:solid black 1.0pt;\n",
    "  mso-border-right-themecolor:text1;mso-border-top-alt:solid black .5pt;\n",
    "  mso-border-top-themecolor:text1;mso-border-top-alt:solid black .5pt;\n",
    "  mso-border-top-themecolor:text1;mso-border-right-alt:solid black .5pt;\n",
    "  mso-border-right-themecolor:text1;padding:0in 5.4pt 0in 5.4pt;height:1.0pt\">\n",
    "  <p class=\"MsoNormal\" align=\"center\" style=\"margin-bottom:0in;margin-bottom:.0001pt;\n",
    "  text-align:center;line-height:normal\"><span style=\"font-size:12.0pt;\n",
    "  font-family:&quot;Arial Unicode MS&quot;,&quot;sans-serif&quot;\">40 per hour<o:p></o:p></span></p>\n",
    "  </td>\n",
    " </tr>\n",
    " <tr style=\"mso-yfti-irow:3;height:1.0pt\">\n",
    "  <td width=\"154\" valign=\"top\" style=\"width:1.6in;border:none;border-left:solid black 1.0pt;\n",
    "  mso-border-left-themecolor:text1;mso-border-left-alt:solid black .5pt;\n",
    "  mso-border-left-themecolor:text1;padding:0in 5.4pt 0in 5.4pt;height:1.0pt\">\n",
    "  <p class=\"MsoNormal\" align=\"center\" style=\"margin-bottom:0in;margin-bottom:.0001pt;\n",
    "  text-align:center;line-height:normal\"><span style=\"font-size:12.0pt;\n",
    "  font-family:&quot;Arial Unicode MS&quot;,&quot;sans-serif&quot;\">Boring capacity<o:p></o:p></span></p>\n",
    "  </td>\n",
    "  <td width=\"106\" valign=\"top\" style=\"width:1.1in;border:none;padding:0in 5.4pt 0in 5.4pt;\n",
    "  height:1.0pt\">\n",
    "  <p class=\"MsoNormal\" align=\"center\" style=\"margin-bottom:0in;margin-bottom:.0001pt;\n",
    "  text-align:center;line-height:normal\"><span style=\"font-size:12.0pt;\n",
    "  font-family:&quot;Arial Unicode MS&quot;,&quot;sans-serif&quot;\">28 per hour<o:p></o:p></span></p>\n",
    "  </td>\n",
    "  <td width=\"106\" valign=\"top\" style=\"width:1.1in;border:none;border-right:solid black 1.0pt;\n",
    "  mso-border-right-themecolor:text1;mso-border-right-alt:solid black .5pt;\n",
    "  mso-border-right-themecolor:text1;padding:0in 5.4pt 0in 5.4pt;height:1.0pt\">\n",
    "  <p class=\"MsoNormal\" align=\"center\" style=\"margin-bottom:0in;margin-bottom:.0001pt;\n",
    "  text-align:center;line-height:normal\"><span style=\"font-size:12.0pt;\n",
    "  font-family:&quot;Arial Unicode MS&quot;,&quot;sans-serif&quot;\">35 per hour<o:p></o:p></span></p>\n",
    "  </td>\n",
    " </tr>\n",
    " <tr style=\"mso-yfti-irow:4;mso-yfti-lastrow:yes;height:1.0pt\">\n",
    "  <td width=\"154\" valign=\"top\" style=\"width:1.6in;border-top:none;border-left:solid black 1.0pt;\n",
    "  mso-border-left-themecolor:text1;border-bottom:solid black 1.0pt;mso-border-bottom-themecolor:\n",
    "  text1;border-right:none;mso-border-left-alt:solid black .5pt;mso-border-left-themecolor:\n",
    "  text1;mso-border-bottom-alt:solid black .5pt;mso-border-bottom-themecolor:\n",
    "  text1;padding:0in 5.4pt 0in 5.4pt;height:1.0pt\">\n",
    "  <p class=\"MsoNormal\" align=\"center\" style=\"margin-bottom:0in;margin-bottom:.0001pt;\n",
    "  text-align:center;line-height:normal\"><span style=\"font-size:12.0pt;\n",
    "  font-family:&quot;Arial Unicode MS&quot;,&quot;sans-serif&quot;\">Polishing capacity<o:p></o:p></span></p>\n",
    "  </td>\n",
    "  <td width=\"106\" valign=\"top\" style=\"width:1.1in;border:none;border-bottom:solid black 1.0pt;\n",
    "  mso-border-bottom-themecolor:text1;mso-border-bottom-alt:solid black .5pt;\n",
    "  mso-border-bottom-themecolor:text1;padding:0in 5.4pt 0in 5.4pt;height:1.0pt\">\n",
    "  <p class=\"MsoNormal\" align=\"center\" style=\"margin-bottom:0in;margin-bottom:.0001pt;\n",
    "  text-align:center;line-height:normal\"><span style=\"font-size:12.0pt;\n",
    "  font-family:&quot;Arial Unicode MS&quot;,&quot;sans-serif&quot;\">35 per hour<o:p></o:p></span></p>\n",
    "  </td>\n",
    "  <td width=\"106\" valign=\"top\" style=\"width:1.1in;border-top:none;border-left:none;\n",
    "  border-bottom:solid black 1.0pt;mso-border-bottom-themecolor:text1;\n",
    "  border-right:solid black 1.0pt;mso-border-right-themecolor:text1;mso-border-bottom-alt:\n",
    "  solid black .5pt;mso-border-bottom-themecolor:text1;mso-border-right-alt:\n",
    "  solid black .5pt;mso-border-right-themecolor:text1;padding:0in 5.4pt 0in 5.4pt;\n",
    "  height:1.0pt\">\n",
    "  <p class=\"MsoNormal\" align=\"center\" style=\"margin-bottom:0in;margin-bottom:.0001pt;\n",
    "  text-align:center;line-height:normal\"><span style=\"font-size:12.0pt;\n",
    "  font-family:&quot;Arial Unicode MS&quot;,&quot;sans-serif&quot;\">25 per hour<o:p></o:p></span></p>\n",
    "  </td>\n",
    " </tr>\n",
    "</tbody>"
   ]
  },
  {
   "cell_type": "markdown",
   "metadata": {},
   "source": [
    "# Setup"
   ]
  },
  {
   "cell_type": "code",
   "execution_count": 1,
   "metadata": {
    "ExecuteTime": {
     "end_time": "2022-05-12T19:48:32.817049Z",
     "start_time": "2022-05-12T19:48:32.794719Z"
    }
   },
   "outputs": [],
   "source": [
    "%config Completer.use_jedi = False"
   ]
  },
  {
   "cell_type": "code",
   "execution_count": 2,
   "metadata": {
    "ExecuteTime": {
     "end_time": "2022-05-12T19:48:33.283662Z",
     "start_time": "2022-05-12T19:48:32.822829Z"
    }
   },
   "outputs": [],
   "source": [
    "import pyomo.environ as pyo"
   ]
  },
  {
   "cell_type": "markdown",
   "metadata": {},
   "source": [
    "# Define the problem"
   ]
  },
  {
   "cell_type": "markdown",
   "metadata": {},
   "source": [
    "## Model\n",
    "\n",
    "<font color=gray size=2.5><b>lets define a concrete model</b></font>"
   ]
  },
  {
   "cell_type": "code",
   "execution_count": 3,
   "metadata": {
    "ExecuteTime": {
     "end_time": "2022-05-12T19:48:33.297128Z",
     "start_time": "2022-05-12T19:48:33.290346Z"
    }
   },
   "outputs": [],
   "source": [
    "model = pyo.ConcreteModel()"
   ]
  },
  {
   "cell_type": "markdown",
   "metadata": {},
   "source": [
    "## Parameters\n",
    "\n",
    "<font color=gray size=2.5><b>these are the known/given values in the problem statement</b></font>"
   ]
  },
  {
   "cell_type": "code",
   "execution_count": null,
   "metadata": {},
   "outputs": [],
   "source": []
  },
  {
   "cell_type": "raw",
   "metadata": {
    "ExecuteTime": {
     "end_time": "2022-05-12T16:54:00.189276Z",
     "start_time": "2022-05-12T16:54:00.183033Z"
    }
   },
   "source": [
    "model.R = pyo.Param(initialize=10)"
   ]
  },
  {
   "cell_type": "markdown",
   "metadata": {},
   "source": [
    "## Variables\n",
    "\n",
    "<font color=gray size=2.5><b>the unknowns - these are what the model needs to determine</b></font>"
   ]
  },
  {
   "cell_type": "markdown",
   "metadata": {},
   "source": [
    "let us assume that:  \n",
    "- `x` is the number of parts-A, where $ x >=0 $  \n",
    "- `y` is the number of parts-B, where $ y >=0 $   "
   ]
  },
  {
   "cell_type": "code",
   "execution_count": 4,
   "metadata": {
    "ExecuteTime": {
     "end_time": "2022-05-12T19:48:33.316760Z",
     "start_time": "2022-05-12T19:48:33.301982Z"
    }
   },
   "outputs": [],
   "source": [
    "model.x = pyo.Var(bounds=(0, None))\n",
    "model.y = pyo.Var(bounds=(0, None))"
   ]
  },
  {
   "cell_type": "markdown",
   "metadata": {},
   "source": [
    "## Constraints\n",
    "\n",
    "<font color=gray size=2.5><b>lets define the constraints</b></font>"
   ]
  },
  {
   "cell_type": "markdown",
   "metadata": {},
   "source": [
    "first, lets calculate the profit on both parts - A and B"
   ]
  },
  {
   "cell_type": "markdown",
   "metadata": {},
   "source": [
    "<tbody><tr style=\"mso-yfti-irow:0;mso-yfti-firstrow:yes\">\n",
    "  <td width=\"422\" colspan=\"3\" valign=\"top\" style=\"width:4.4in;border:solid black 1.0pt;\n",
    "  mso-border-themecolor:text1;mso-border-alt:solid black .5pt;mso-border-themecolor:\n",
    "  text1;padding:0in 5.4pt 0in 5.4pt\">\n",
    "  <p class=\"MsoNormal\" align=\"center\" style=\"margin-bottom:0in;margin-bottom:.0001pt;\n",
    "  text-align:center;line-height:normal\"><span style=\"font-size:12.0pt;\n",
    "  font-family:&quot;Arial Unicode MS&quot;,&quot;sans-serif&quot;\">TABLE 2<o:p></o:p></span></p>\n",
    "  </td>\n",
    " </tr>\n",
    " <tr style=\"mso-yfti-irow:1\">\n",
    "  <td width=\"96\" valign=\"top\" style=\"width:1.0in;border-top:none;border-left:solid black 1.0pt;\n",
    "  mso-border-left-themecolor:text1;border-bottom:solid black 1.0pt;mso-border-bottom-themecolor:\n",
    "  text1;border-right:none;mso-border-top-alt:solid black .5pt;mso-border-top-themecolor:\n",
    "  text1;mso-border-top-alt:solid black .5pt;mso-border-top-themecolor:text1;\n",
    "  mso-border-left-alt:solid black .5pt;mso-border-left-themecolor:text1;\n",
    "  mso-border-bottom-alt:solid black .5pt;mso-border-bottom-themecolor:text1;\n",
    "  padding:0in 5.4pt 0in 5.4pt\">\n",
    "  <p class=\"MsoNormal\" align=\"center\" style=\"margin-bottom:0in;margin-bottom:.0001pt;\n",
    "  text-align:center;line-height:normal\"><span style=\"font-size:12.0pt;\n",
    "  font-family:&quot;Arial Unicode MS&quot;,&quot;sans-serif&quot;\"><o:p>&nbsp;</o:p></span></p>\n",
    "  </td>\n",
    "  <td width=\"163\" valign=\"top\" style=\"width:1.7in;border:none;border-bottom:solid black 1.0pt;\n",
    "  mso-border-bottom-themecolor:text1;mso-border-top-alt:solid black .5pt;\n",
    "  mso-border-top-themecolor:text1;mso-border-top-alt:solid black .5pt;\n",
    "  mso-border-top-themecolor:text1;mso-border-bottom-alt:solid black .5pt;\n",
    "  mso-border-bottom-themecolor:text1;padding:0in 5.4pt 0in 5.4pt\">\n",
    "  <p class=\"MsoNormal\" align=\"center\" style=\"margin-bottom:0in;margin-bottom:.0001pt;\n",
    "  text-align:center;line-height:normal\"><span style=\"font-size:12.0pt;\n",
    "  font-family:&quot;Arial Unicode MS&quot;,&quot;sans-serif&quot;\">Part A<o:p></o:p></span></p>\n",
    "  </td>\n",
    "  <td width=\"163\" valign=\"top\" style=\"width:1.7in;border-top:none;border-left:none;\n",
    "  border-bottom:solid black 1.0pt;mso-border-bottom-themecolor:text1;\n",
    "  border-right:solid black 1.0pt;mso-border-right-themecolor:text1;mso-border-top-alt:\n",
    "  solid black .5pt;mso-border-top-themecolor:text1;mso-border-top-alt:solid black .5pt;\n",
    "  mso-border-top-themecolor:text1;mso-border-bottom-alt:solid black .5pt;\n",
    "  mso-border-bottom-themecolor:text1;mso-border-right-alt:solid black .5pt;\n",
    "  mso-border-right-themecolor:text1;padding:0in 5.4pt 0in 5.4pt\">\n",
    "  <p class=\"MsoNormal\" align=\"center\" style=\"margin-bottom:0in;margin-bottom:.0001pt;\n",
    "  text-align:center;line-height:normal\"><span style=\"font-size:12.0pt;\n",
    "  font-family:&quot;Arial Unicode MS&quot;,&quot;sans-serif&quot;\">Part B<o:p></o:p></span></p>\n",
    "  </td>\n",
    " </tr>\n",
    " <tr style=\"mso-yfti-irow:2\">\n",
    "  <td width=\"96\" valign=\"top\" style=\"width:1.0in;border:none;border-left:solid black 1.0pt;\n",
    "  mso-border-left-themecolor:text1;mso-border-top-alt:solid black .5pt;\n",
    "  mso-border-top-themecolor:text1;mso-border-top-alt:solid black .5pt;\n",
    "  mso-border-top-themecolor:text1;mso-border-left-alt:solid black .5pt;\n",
    "  mso-border-left-themecolor:text1;padding:0in 5.4pt 0in 5.4pt\">\n",
    "  <p class=\"MsoNormal\" align=\"center\" style=\"margin-bottom:0in;margin-bottom:.0001pt;\n",
    "  text-align:center;line-height:normal\"><span style=\"font-size:12.0pt;\n",
    "  font-family:&quot;Arial Unicode MS&quot;,&quot;sans-serif&quot;\">Machining<o:p></o:p></span></p>\n",
    "  </td>\n",
    "  <td width=\"163\" valign=\"top\" style=\"width:1.7in;border:none;mso-border-top-alt:\n",
    "  solid black .5pt;mso-border-top-themecolor:text1;padding:0in 5.4pt 0in 5.4pt\">\n",
    "  <p class=\"MsoNormal\" align=\"center\" style=\"margin-bottom:0in;margin-bottom:.0001pt;\n",
    "  text-align:center;line-height:normal\"><span style=\"font-size:12.0pt;\n",
    "  font-family:&quot;Arial Unicode MS&quot;,&quot;sans-serif&quot;\">(20 / 25) = 0.80<o:p></o:p></span></p>\n",
    "  </td>\n",
    "  <td width=\"163\" valign=\"top\" style=\"width:1.7in;border:none;border-right:solid black 1.0pt;\n",
    "  mso-border-right-themecolor:text1;mso-border-top-alt:solid black .5pt;\n",
    "  mso-border-top-themecolor:text1;mso-border-top-alt:solid black .5pt;\n",
    "  mso-border-top-themecolor:text1;mso-border-right-alt:solid black .5pt;\n",
    "  mso-border-right-themecolor:text1;padding:0in 5.4pt 0in 5.4pt\">\n",
    "  <p class=\"MsoNormal\" align=\"center\" style=\"margin-bottom:0in;margin-bottom:.0001pt;\n",
    "  text-align:center;line-height:normal\"><span style=\"font-size:12.0pt;\n",
    "  font-family:&quot;Arial Unicode MS&quot;,&quot;sans-serif&quot;\">(20 / 40) = 0.50<o:p></o:p></span></p>\n",
    "  </td>\n",
    " </tr>\n",
    " <tr style=\"mso-yfti-irow:3\">\n",
    "  <td width=\"96\" valign=\"top\" style=\"width:1.0in;border:none;border-left:solid black 1.0pt;\n",
    "  mso-border-left-themecolor:text1;mso-border-left-alt:solid black .5pt;\n",
    "  mso-border-left-themecolor:text1;padding:0in 5.4pt 0in 5.4pt\">\n",
    "  <p class=\"MsoNormal\" align=\"center\" style=\"margin-bottom:0in;margin-bottom:.0001pt;\n",
    "  text-align:center;line-height:normal\"><span style=\"font-size:12.0pt;\n",
    "  font-family:&quot;Arial Unicode MS&quot;,&quot;sans-serif&quot;\">Boring<o:p></o:p></span></p>\n",
    "  </td>\n",
    "  <td width=\"163\" valign=\"top\" style=\"width:1.7in;border:none;padding:0in 5.4pt 0in 5.4pt\">\n",
    "  <p class=\"MsoNormal\" align=\"center\" style=\"margin-bottom:0in;margin-bottom:.0001pt;\n",
    "  text-align:center;line-height:normal\"><span style=\"font-size:12.0pt;\n",
    "  font-family:&quot;Arial Unicode MS&quot;,&quot;sans-serif&quot;\">(14 / 28) = 0.50<o:p></o:p></span></p>\n",
    "  </td>\n",
    "  <td width=\"163\" valign=\"top\" style=\"width:1.7in;border:none;border-right:solid black 1.0pt;\n",
    "  mso-border-right-themecolor:text1;mso-border-right-alt:solid black .5pt;\n",
    "  mso-border-right-themecolor:text1;padding:0in 5.4pt 0in 5.4pt\">\n",
    "  <p class=\"MsoNormal\" align=\"center\" style=\"margin-bottom:0in;margin-bottom:.0001pt;\n",
    "  text-align:center;line-height:normal\"><span style=\"font-size:12.0pt;\n",
    "  font-family:&quot;Arial Unicode MS&quot;,&quot;sans-serif&quot;\">(14 / 35) = 0.40<o:p></o:p></span></p>\n",
    "  </td>\n",
    " </tr>\n",
    " <tr style=\"mso-yfti-irow:4\">\n",
    "  <td width=\"96\" valign=\"top\" style=\"width:1.0in;border:none;border-left:solid black 1.0pt;\n",
    "  mso-border-left-themecolor:text1;mso-border-left-alt:solid black .5pt;\n",
    "  mso-border-left-themecolor:text1;padding:0in 5.4pt 0in 5.4pt\">\n",
    "  <p class=\"MsoNormal\" align=\"center\" style=\"margin-bottom:0in;margin-bottom:.0001pt;\n",
    "  text-align:center;line-height:normal\"><span style=\"font-size:12.0pt;\n",
    "  font-family:&quot;Arial Unicode MS&quot;,&quot;sans-serif&quot;\">Polishing<o:p></o:p></span></p>\n",
    "  </td>\n",
    "  <td width=\"163\" valign=\"top\" style=\"width:1.7in;border:none;padding:0in 5.4pt 0in 5.4pt\">\n",
    "  <p class=\"MsoNormal\" align=\"center\" style=\"margin-bottom:0in;margin-bottom:.0001pt;\n",
    "  text-align:center;line-height:normal\"><span style=\"font-size:12.0pt;\n",
    "  font-family:&quot;Arial Unicode MS&quot;,&quot;sans-serif&quot;\">[(17.50) / 35] = 0.50<o:p></o:p></span></p>\n",
    "  </td>\n",
    "  <td width=\"163\" valign=\"top\" style=\"width:1.7in;border:none;border-right:solid black 1.0pt;\n",
    "  mso-border-right-themecolor:text1;mso-border-right-alt:solid black .5pt;\n",
    "  mso-border-right-themecolor:text1;padding:0in 5.4pt 0in 5.4pt\">\n",
    "  <p class=\"MsoNormal\" align=\"center\" style=\"margin-bottom:0in;margin-bottom:.0001pt;\n",
    "  text-align:center;line-height:normal\"><span style=\"font-size:12.0pt;\n",
    "  font-family:&quot;Arial Unicode MS&quot;,&quot;sans-serif&quot;\">[(17.50) / 25] = 0.70<o:p></o:p></span></p>\n",
    "  </td>\n",
    " </tr>\n",
    " <tr style=\"mso-yfti-irow:5\">\n",
    "  <td width=\"96\" valign=\"top\" style=\"width:1.0in;border-top:none;border-left:solid black 1.0pt;\n",
    "  mso-border-left-themecolor:text1;border-bottom:solid black 1.0pt;mso-border-bottom-themecolor:\n",
    "  text1;border-right:none;mso-border-left-alt:solid black .5pt;mso-border-left-themecolor:\n",
    "  text1;mso-border-bottom-alt:solid black .5pt;mso-border-bottom-themecolor:\n",
    "  text1;padding:0in 5.4pt 0in 5.4pt\">\n",
    "  <p class=\"MsoNormal\" align=\"center\" style=\"margin-bottom:0in;margin-bottom:.0001pt;\n",
    "  text-align:center;line-height:normal\"><span style=\"font-size:12.0pt;\n",
    "  font-family:&quot;Arial Unicode MS&quot;,&quot;sans-serif&quot;\">PurchaseCost<o:p></o:p></span></p>\n",
    "  </td>\n",
    "  <td width=\"163\" valign=\"top\" style=\"width:1.7in;border:none;border-bottom:solid black 1.0pt;\n",
    "  mso-border-bottom-themecolor:text1;mso-border-bottom-alt:solid black .5pt;\n",
    "  mso-border-bottom-themecolor:text1;padding:0in 5.4pt 0in 5.4pt\">\n",
    "  <p class=\"MsoNormal\" align=\"center\" style=\"margin-bottom:0in;margin-bottom:.0001pt;\n",
    "  text-align:center;line-height:normal\"><span style=\"font-size:12.0pt;\n",
    "  font-family:&quot;Arial Unicode MS&quot;,&quot;sans-serif&quot;\">2.00<o:p></o:p></span></p>\n",
    "  </td>\n",
    "  <td width=\"163\" valign=\"top\" style=\"width:1.7in;border-top:none;border-left:none;\n",
    "  border-bottom:solid black 1.0pt;mso-border-bottom-themecolor:text1;\n",
    "  border-right:solid black 1.0pt;mso-border-right-themecolor:text1;mso-border-bottom-alt:\n",
    "  solid black .5pt;mso-border-bottom-themecolor:text1;mso-border-right-alt:\n",
    "  solid black .5pt;mso-border-right-themecolor:text1;padding:0in 5.4pt 0in 5.4pt\">\n",
    "  <p class=\"MsoNormal\" align=\"center\" style=\"margin-bottom:0in;margin-bottom:.0001pt;\n",
    "  text-align:center;line-height:normal\"><span style=\"font-size:12.0pt;\n",
    "  font-family:&quot;Arial Unicode MS&quot;,&quot;sans-serif&quot;\">3.00<o:p></o:p></span></p>\n",
    "  </td>\n",
    " </tr>\n",
    " <tr style=\"mso-yfti-irow:6\">\n",
    "  <td width=\"96\" valign=\"top\" style=\"width:1.0in;border:none;border-left:solid black 1.0pt;\n",
    "  mso-border-left-themecolor:text1;mso-border-top-alt:solid black .5pt;\n",
    "  mso-border-top-themecolor:text1;mso-border-top-alt:solid black .5pt;\n",
    "  mso-border-top-themecolor:text1;mso-border-left-alt:solid black .5pt;\n",
    "  mso-border-left-themecolor:text1;padding:0in 5.4pt 0in 5.4pt\">\n",
    "  <p class=\"MsoNormal\" align=\"center\" style=\"margin-bottom:0in;margin-bottom:.0001pt;\n",
    "  text-align:center;line-height:normal\"><span style=\"font-size:12.0pt;\n",
    "  font-family:&quot;Arial Unicode MS&quot;,&quot;sans-serif&quot;\">TotalCost<o:p></o:p></span></p>\n",
    "  </td>\n",
    "  <td width=\"163\" valign=\"top\" style=\"width:1.7in;border:none;mso-border-top-alt:\n",
    "  solid black .5pt;mso-border-top-themecolor:text1;padding:0in 5.4pt 0in 5.4pt\">\n",
    "  <p class=\"MsoNormal\" align=\"center\" style=\"margin-bottom:0in;margin-bottom:.0001pt;\n",
    "  text-align:center;line-height:normal\"><span style=\"font-size:12.0pt;\n",
    "  font-family:&quot;Arial Unicode MS&quot;,&quot;sans-serif&quot;\">3.80<o:p></o:p></span></p>\n",
    "  </td>\n",
    "  <td width=\"163\" valign=\"top\" style=\"width:1.7in;border:none;border-right:solid black 1.0pt;\n",
    "  mso-border-right-themecolor:text1;mso-border-top-alt:solid black .5pt;\n",
    "  mso-border-top-themecolor:text1;mso-border-top-alt:solid black .5pt;\n",
    "  mso-border-top-themecolor:text1;mso-border-right-alt:solid black .5pt;\n",
    "  mso-border-right-themecolor:text1;padding:0in 5.4pt 0in 5.4pt\">\n",
    "  <p class=\"MsoNormal\" align=\"center\" style=\"margin-bottom:0in;margin-bottom:.0001pt;\n",
    "  text-align:center;line-height:normal\"><span style=\"font-size:12.0pt;\n",
    "  font-family:&quot;Arial Unicode MS&quot;,&quot;sans-serif&quot;\">4.60<o:p></o:p></span></p>\n",
    "  </td>\n",
    " </tr>\n",
    " <tr style=\"mso-yfti-irow:7\">\n",
    "  <td width=\"96\" valign=\"top\" style=\"width:1.0in;border-top:none;border-left:solid black 1.0pt;\n",
    "  mso-border-left-themecolor:text1;border-bottom:solid windowtext 1.0pt;\n",
    "  border-right:none;mso-border-left-alt:solid black .5pt;mso-border-left-themecolor:\n",
    "  text1;mso-border-bottom-alt:solid windowtext .5pt;padding:0in 5.4pt 0in 5.4pt\">\n",
    "  <p class=\"MsoNormal\" align=\"center\" style=\"margin-bottom:0in;margin-bottom:.0001pt;\n",
    "  text-align:center;line-height:normal\"><span style=\"font-size:12.0pt;\n",
    "  font-family:&quot;Arial Unicode MS&quot;,&quot;sans-serif&quot;\">SalesPrice<o:p></o:p></span></p>\n",
    "  </td>\n",
    "  <td width=\"163\" valign=\"top\" style=\"width:1.7in;border:none;border-bottom:solid windowtext 1.0pt;\n",
    "  mso-border-bottom-alt:solid windowtext .5pt;padding:0in 5.4pt 0in 5.4pt\">\n",
    "  <p class=\"MsoNormal\" align=\"center\" style=\"margin-bottom:0in;margin-bottom:.0001pt;\n",
    "  text-align:center;line-height:normal\"><span style=\"font-size:12.0pt;\n",
    "  font-family:&quot;Arial Unicode MS&quot;,&quot;sans-serif&quot;\">5.00<o:p></o:p></span></p>\n",
    "  </td>\n",
    "  <td width=\"163\" valign=\"top\" style=\"width:1.7in;border-top:none;border-left:none;\n",
    "  border-bottom:solid windowtext 1.0pt;border-right:solid black 1.0pt;\n",
    "  mso-border-right-themecolor:text1;mso-border-bottom-alt:solid windowtext .5pt;\n",
    "  mso-border-right-alt:solid black .5pt;mso-border-right-themecolor:text1;\n",
    "  padding:0in 5.4pt 0in 5.4pt\">\n",
    "  <p class=\"MsoNormal\" align=\"center\" style=\"margin-bottom:0in;margin-bottom:.0001pt;\n",
    "  text-align:center;line-height:normal\"><span style=\"font-size:12.0pt;\n",
    "  font-family:&quot;Arial Unicode MS&quot;,&quot;sans-serif&quot;\">6.00<o:p></o:p></span></p>\n",
    "  </td>\n",
    " </tr>\n",
    " <tr style=\"mso-yfti-irow:8;mso-yfti-lastrow:yes\">\n",
    "  <td width=\"96\" valign=\"top\" style=\"width:1.0in;border-top:none;border-left:solid black 1.0pt;\n",
    "  mso-border-left-themecolor:text1;border-bottom:solid black 1.0pt;mso-border-bottom-themecolor:\n",
    "  text1;border-right:none;mso-border-top-alt:solid windowtext .5pt;mso-border-top-alt:\n",
    "  solid windowtext .5pt;mso-border-left-alt:solid black .5pt;mso-border-left-themecolor:\n",
    "  text1;mso-border-bottom-alt:solid black .5pt;mso-border-bottom-themecolor:\n",
    "  text1;padding:0in 5.4pt 0in 5.4pt\">\n",
    "  <p class=\"MsoNormal\" align=\"center\" style=\"margin-bottom:0in;margin-bottom:.0001pt;\n",
    "  text-align:center;line-height:normal\"><span style=\"font-size:12.0pt;\n",
    "  font-family:&quot;Arial Unicode MS&quot;,&quot;sans-serif&quot;\">NetProfit<o:p></o:p></span></p>\n",
    "  </td>\n",
    "  <td width=\"163\" valign=\"top\" style=\"width:1.7in;border:none;border-bottom:solid black 1.0pt;\n",
    "  mso-border-bottom-themecolor:text1;mso-border-top-alt:solid windowtext .5pt;\n",
    "  mso-border-top-alt:solid windowtext .5pt;mso-border-bottom-alt:solid black .5pt;\n",
    "  mso-border-bottom-themecolor:text1;padding:0in 5.4pt 0in 5.4pt\">\n",
    "  <p class=\"MsoNormal\" align=\"center\" style=\"margin-bottom:0in;margin-bottom:.0001pt;\n",
    "  text-align:center;line-height:normal\"><span style=\"font-size:12.0pt;\n",
    "  font-family:&quot;Arial Unicode MS&quot;,&quot;sans-serif&quot;\">1.20<o:p></o:p></span></p>\n",
    "  </td>\n",
    "  <td width=\"163\" valign=\"top\" style=\"width:1.7in;border-top:none;border-left:none;\n",
    "  border-bottom:solid black 1.0pt;mso-border-bottom-themecolor:text1;\n",
    "  border-right:solid black 1.0pt;mso-border-right-themecolor:text1;mso-border-top-alt:\n",
    "  solid windowtext .5pt;mso-border-top-alt:solid windowtext .5pt;mso-border-bottom-alt:\n",
    "  solid black .5pt;mso-border-bottom-themecolor:text1;mso-border-right-alt:\n",
    "  solid black .5pt;mso-border-right-themecolor:text1;padding:0in 5.4pt 0in 5.4pt\">\n",
    "  <p class=\"MsoNormal\" align=\"center\" style=\"margin-bottom:0in;margin-bottom:.0001pt;\n",
    "  text-align:center;line-height:normal\"><span style=\"font-size:12.0pt;\n",
    "  font-family:&quot;Arial Unicode MS&quot;,&quot;sans-serif&quot;\">1.40<o:p></o:p></span></p>\n",
    "  </td>\n",
    " </tr>\n",
    "</tbody>"
   ]
  },
  {
   "cell_type": "markdown",
   "metadata": {},
   "source": [
    "taking the capacity limits into account, our constraints are:  \n",
    "\n",
    "Machining Time:  \n",
    "> $ \\frac{x}{25} + \\frac{y}{40} <= 1 $  \n",
    "\n",
    "Boring Time:  \n",
    "> $ \\frac{x}{28} + \\frac{y}{35} <= 1 $  \n",
    "\n",
    "Polishing Time:  \n",
    "> $ \\frac{x}{35} + \\frac{y}{25} <= 1 $  "
   ]
  },
  {
   "cell_type": "code",
   "execution_count": 5,
   "metadata": {
    "ExecuteTime": {
     "end_time": "2022-05-12T19:48:33.330145Z",
     "start_time": "2022-05-12T19:48:33.321665Z"
    }
   },
   "outputs": [],
   "source": [
    "model.c1 = pyo.Constraint(expr=model.x/25 + model.y/40 <= 1)"
   ]
  },
  {
   "cell_type": "code",
   "execution_count": 6,
   "metadata": {
    "ExecuteTime": {
     "end_time": "2022-05-12T19:48:33.345079Z",
     "start_time": "2022-05-12T19:48:33.337668Z"
    }
   },
   "outputs": [],
   "source": [
    "model.c2 = pyo.Constraint(expr=model.x/28 + model.y/35 <= 1)"
   ]
  },
  {
   "cell_type": "code",
   "execution_count": 7,
   "metadata": {
    "ExecuteTime": {
     "end_time": "2022-05-12T19:48:33.359490Z",
     "start_time": "2022-05-12T19:48:33.350349Z"
    }
   },
   "outputs": [],
   "source": [
    "model.c3 = pyo.Constraint(expr=model.x/35 + model.y/25 <= 1)"
   ]
  },
  {
   "cell_type": "markdown",
   "metadata": {},
   "source": [
    "## Objective Function\n",
    "\n",
    "<font color=gray size=2.5><b>the objective function - we need to maximixe this function as per the current question</b></font>"
   ]
  },
  {
   "cell_type": "markdown",
   "metadata": {},
   "source": [
    "we need to maximize the profit, where profit is defined as:  \n",
    "> (max) $ 1.2x + 1.4y $"
   ]
  },
  {
   "cell_type": "code",
   "execution_count": 8,
   "metadata": {
    "ExecuteTime": {
     "end_time": "2022-05-12T19:48:33.373527Z",
     "start_time": "2022-05-12T19:48:33.364519Z"
    }
   },
   "outputs": [],
   "source": [
    "model.OF = pyo.Objective(expr=1.2*model.x + 1.4*model.y, sense=pyo.maximize)"
   ]
  },
  {
   "cell_type": "markdown",
   "metadata": {},
   "source": [
    "# Solve"
   ]
  },
  {
   "cell_type": "code",
   "execution_count": 9,
   "metadata": {
    "ExecuteTime": {
     "end_time": "2022-05-12T19:48:33.657323Z",
     "start_time": "2022-05-12T19:48:33.379911Z"
    }
   },
   "outputs": [],
   "source": [
    "optimizer = pyo.SolverFactory('ipopt')\n",
    "results = optimizer.solve(model)"
   ]
  },
  {
   "cell_type": "markdown",
   "metadata": {},
   "source": [
    "# Print Optimum Results"
   ]
  },
  {
   "cell_type": "code",
   "execution_count": 10,
   "metadata": {
    "ExecuteTime": {
     "end_time": "2022-05-12T19:48:33.670926Z",
     "start_time": "2022-05-12T19:48:33.661644Z"
    }
   },
   "outputs": [
    {
     "name": "stdout",
     "output_type": "stream",
     "text": [
      "x = 16.935\n",
      "y = 12.903\n",
      "Max Profit = 38.387\n"
     ]
    }
   ],
   "source": [
    "print('x =', round(pyo.value(model.x), 3))\n",
    "print('y =', round(pyo.value(model.y), 3))\n",
    "print('Max Profit =', round(pyo.value(model.OF), 3))"
   ]
  },
  {
   "cell_type": "code",
   "execution_count": 11,
   "metadata": {
    "ExecuteTime": {
     "end_time": "2022-05-12T19:48:33.691277Z",
     "start_time": "2022-05-12T19:48:33.675267Z"
    }
   },
   "outputs": [
    {
     "name": "stdout",
     "output_type": "stream",
     "text": [
      "\n",
      "Problem: \n",
      "- Lower bound: -inf\n",
      "  Upper bound: inf\n",
      "  Number of objectives: 1\n",
      "  Number of constraints: 3\n",
      "  Number of variables: 2\n",
      "  Sense: unknown\n",
      "Solver: \n",
      "- Status: ok\n",
      "  Message: Ipopt 3.14.6\\x3a Optimal Solution Found\n",
      "  Termination condition: optimal\n",
      "  Id: 0\n",
      "  Error rc: 0\n",
      "  Time: 0.06524872779846191\n",
      "Solution: \n",
      "- number of solutions: 0\n",
      "  number of solutions displayed: 0\n",
      "\n"
     ]
    }
   ],
   "source": [
    "print(results)"
   ]
  },
  {
   "cell_type": "code",
   "execution_count": null,
   "metadata": {},
   "outputs": [],
   "source": []
  },
  {
   "cell_type": "markdown",
   "metadata": {},
   "source": [
    "---"
   ]
  }
 ],
 "metadata": {
  "kernelspec": {
   "display_name": "Python [conda env:operations-research-notebooks]",
   "language": "python",
   "name": "conda-env-operations-research-notebooks-py"
  },
  "language_info": {
   "codemirror_mode": {
    "name": "ipython",
    "version": 3
   },
   "file_extension": ".py",
   "mimetype": "text/x-python",
   "name": "python",
   "nbconvert_exporter": "python",
   "pygments_lexer": "ipython3",
   "version": "3.10.4"
  },
  "toc": {
   "base_numbering": 1,
   "nav_menu": {},
   "number_sections": true,
   "sideBar": true,
   "skip_h1_title": false,
   "title_cell": "Table of Contents",
   "title_sidebar": "Contents",
   "toc_cell": false,
   "toc_position": {},
   "toc_section_display": true,
   "toc_window_display": false
  }
 },
 "nbformat": 4,
 "nbformat_minor": 4
}
