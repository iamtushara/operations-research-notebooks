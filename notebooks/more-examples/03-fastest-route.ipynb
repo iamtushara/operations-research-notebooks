{
 "cells": [
  {
   "cell_type": "markdown",
   "metadata": {},
   "source": [
    "# Finding the Fastest Route"
   ]
  },
  {
   "cell_type": "markdown",
   "metadata": {},
   "source": [
    "<img src=\"../../reports/imgs/fastest-route.png\" alt=\"drawing\" width=\"800\"/>"
   ]
  },
  {
   "cell_type": "markdown",
   "metadata": {},
   "source": [
    "# Setup"
   ]
  },
  {
   "cell_type": "code",
   "execution_count": 1,
   "metadata": {
    "ExecuteTime": {
     "end_time": "2022-05-19T07:26:30.134944Z",
     "start_time": "2022-05-19T07:26:30.120344Z"
    }
   },
   "outputs": [],
   "source": [
    "%config Completer.use_jedi = False"
   ]
  },
  {
   "cell_type": "code",
   "execution_count": 2,
   "metadata": {
    "ExecuteTime": {
     "end_time": "2022-05-19T07:26:30.718770Z",
     "start_time": "2022-05-19T07:26:30.145371Z"
    }
   },
   "outputs": [],
   "source": [
    "import numpy as np\n",
    "import pyomo.environ as pyo"
   ]
  },
  {
   "cell_type": "markdown",
   "metadata": {},
   "source": [
    "# Solution"
   ]
  },
  {
   "cell_type": "markdown",
   "metadata": {},
   "source": [
    "## Model\n",
    "\n",
    "<font color=gray size=2.5><b>lets define a concrete model</b></font>"
   ]
  },
  {
   "cell_type": "code",
   "execution_count": 3,
   "metadata": {
    "ExecuteTime": {
     "end_time": "2022-05-19T07:26:30.727499Z",
     "start_time": "2022-05-19T07:26:30.722378Z"
    }
   },
   "outputs": [],
   "source": [
    "model = pyo.ConcreteModel()"
   ]
  },
  {
   "cell_type": "markdown",
   "metadata": {},
   "source": [
    "## Parameters\n",
    "\n",
    "<font color=gray size=2.5><b>these are the known/given values in the problem statement</b></font>"
   ]
  },
  {
   "cell_type": "code",
   "execution_count": 4,
   "metadata": {
    "ExecuteTime": {
     "end_time": "2022-05-19T07:26:30.740279Z",
     "start_time": "2022-05-19T07:26:30.732155Z"
    }
   },
   "outputs": [],
   "source": [
    "model.R = pyo.Param(initialize=10)\n",
    "model.V1 = pyo.Param(initialize=3)\n",
    "model.V2 = pyo.Param(initialize=4)"
   ]
  },
  {
   "cell_type": "markdown",
   "metadata": {},
   "source": [
    "## Variables\n",
    "\n",
    "<font color=gray size=2.5><b>the unknowns - these are what the model needs to determine</b></font>"
   ]
  },
  {
   "cell_type": "code",
   "execution_count": 5,
   "metadata": {
    "ExecuteTime": {
     "end_time": "2022-05-19T07:26:30.751224Z",
     "start_time": "2022-05-19T07:26:30.744061Z"
    }
   },
   "outputs": [],
   "source": [
    "model.theta = pyo.Var(bounds=(0, np.pi/2), initialize=np.pi/3)"
   ]
  },
  {
   "cell_type": "markdown",
   "metadata": {},
   "source": [
    "## Constraints\n",
    "\n",
    "<font color=gray size=2.5><b>lets define the constraints</b></font>"
   ]
  },
  {
   "cell_type": "code",
   "execution_count": null,
   "metadata": {},
   "outputs": [],
   "source": []
  },
  {
   "cell_type": "raw",
   "metadata": {
    "ExecuteTime": {
     "end_time": "2022-05-12T16:54:00.206970Z",
     "start_time": "2022-05-12T16:54:00.200810Z"
    }
   },
   "source": [
    "model.c1 = pyo.Constraint(expr=)"
   ]
  },
  {
   "cell_type": "markdown",
   "metadata": {},
   "source": [
    "## Objective Function\n",
    "\n",
    "<font color=gray size=2.5><b>the objective function - we need to maximixe this function as per the current question</b></font>"
   ]
  },
  {
   "cell_type": "code",
   "execution_count": 6,
   "metadata": {
    "ExecuteTime": {
     "end_time": "2022-05-19T07:26:30.761916Z",
     "start_time": "2022-05-19T07:26:30.755756Z"
    }
   },
   "outputs": [],
   "source": [
    "model.OF = pyo.Objective(\n",
    "    expr= 2*model.R*pyo.cos(model.theta)/model.V1 + 2*model.theta*model.R/model.V2,\n",
    "    sense=pyo.minimize\n",
    ")"
   ]
  },
  {
   "cell_type": "markdown",
   "metadata": {},
   "source": [
    "# Solve"
   ]
  },
  {
   "cell_type": "code",
   "execution_count": 7,
   "metadata": {
    "ExecuteTime": {
     "end_time": "2022-05-19T07:26:30.978177Z",
     "start_time": "2022-05-19T07:26:30.765239Z"
    }
   },
   "outputs": [],
   "source": [
    "optimizer = pyo.SolverFactory('ipopt')\n",
    "results = optimizer.solve(model)"
   ]
  },
  {
   "cell_type": "markdown",
   "metadata": {},
   "source": [
    "# Print Optimum Results"
   ]
  },
  {
   "cell_type": "code",
   "execution_count": 8,
   "metadata": {
    "ExecuteTime": {
     "end_time": "2022-05-19T07:26:30.993152Z",
     "start_time": "2022-05-19T07:26:30.984838Z"
    }
   },
   "outputs": [
    {
     "name": "stdout",
     "output_type": "stream",
     "text": [
      "theta=  90\n",
      "OF=  7.85\n"
     ]
    }
   ],
   "source": [
    "print('theta= ', round(pyo.value(model.theta)*180/np.pi))\n",
    "print('OF= ', round(pyo.value(model.OF), 2))"
   ]
  },
  {
   "cell_type": "code",
   "execution_count": null,
   "metadata": {},
   "outputs": [],
   "source": []
  },
  {
   "cell_type": "markdown",
   "metadata": {},
   "source": [
    "---"
   ]
  }
 ],
 "metadata": {
  "kernelspec": {
   "display_name": "Python [conda env:operations-research-notebooks]",
   "language": "python",
   "name": "conda-env-operations-research-notebooks-py"
  },
  "language_info": {
   "codemirror_mode": {
    "name": "ipython",
    "version": 3
   },
   "file_extension": ".py",
   "mimetype": "text/x-python",
   "name": "python",
   "nbconvert_exporter": "python",
   "pygments_lexer": "ipython3",
   "version": "3.10.4"
  },
  "toc": {
   "base_numbering": 1,
   "nav_menu": {},
   "number_sections": true,
   "sideBar": true,
   "skip_h1_title": false,
   "title_cell": "Table of Contents",
   "title_sidebar": "Contents",
   "toc_cell": false,
   "toc_position": {},
   "toc_section_display": true,
   "toc_window_display": false
  }
 },
 "nbformat": 4,
 "nbformat_minor": 4
}
